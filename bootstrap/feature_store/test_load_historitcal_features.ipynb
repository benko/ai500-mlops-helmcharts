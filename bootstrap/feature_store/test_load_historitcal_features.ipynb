{
 "cells": [
  {
   "cell_type": "code",
   "execution_count": 15,
   "id": "82ba4341-f808-4667-bd7b-d9c3df00967b",
   "metadata": {
    "tags": []
   },
   "outputs": [],
   "source": [
    "import feast\n",
    "import pandas as pd\n",
    "from datetime import datetime\n",
    "import psycopg2\n",
    "import yaml"
   ]
  },
  {
   "cell_type": "code",
   "execution_count": 28,
   "id": "fc950cb2-cf5f-4ee0-afde-60174dfd9ce5",
   "metadata": {
    "tags": []
   },
   "outputs": [],
   "source": [
    "with open('feature_repo/feature_store.yaml', 'r') as file:\n",
    "    fs_config_yaml = yaml.safe_load(file)"
   ]
  },
  {
   "cell_type": "code",
   "execution_count": 29,
   "id": "e44eaee9-e9a9-48f2-9ae2-750bb27299ee",
   "metadata": {
    "tags": []
   },
   "outputs": [],
   "source": [
    "fs_config = feast.repo_config.RepoConfig(**fs_config_yaml)"
   ]
  },
  {
   "cell_type": "code",
   "execution_count": 30,
   "id": "69f15174-0b81-49e0-980e-83b9d1937517",
   "metadata": {
    "tags": []
   },
   "outputs": [],
   "source": [
    "# fs = feast.FeatureStore(repo_path=\"feature_repo\")\n",
    "fs = feast.FeatureStore(config=fs_config)"
   ]
  },
  {
   "cell_type": "code",
   "execution_count": 31,
   "id": "6c9d1af1-9ae9-4194-9977-ac238dbf233c",
   "metadata": {
    "tags": []
   },
   "outputs": [],
   "source": [
    "entity_df = pd.DataFrame.from_dict(\n",
    "    {\n",
    "        \"transaction_id\": list(range(1000)),\n",
    "        \"event_timestamp\": [\n",
    "            datetime.now()\n",
    "        ]*1000\n",
    "    }\n",
    ")\n"
   ]
  },
  {
   "cell_type": "code",
   "execution_count": 32,
   "id": "58ce56f0-342a-4dbf-8bda-14922da87bde",
   "metadata": {
    "tags": []
   },
   "outputs": [],
   "source": [
    "features = [\n",
    "    \"transactions_features:distance_from_last_transaction\",\n",
    "    \"transactions_features:ratio_to_median_purchase_price\",\n",
    "    \"transactions_features:used_chip\",\n",
    "    \"transactions_features:used_pin_number\",\n",
    "]"
   ]
  },
  {
   "cell_type": "code",
   "execution_count": 33,
   "id": "f25c7a97-0f10-453e-9a49-3d99144ca44f",
   "metadata": {
    "tags": []
   },
   "outputs": [],
   "source": [
    "training_df = fs.get_historical_features(entity_df=entity_df, features=features).to_df()"
   ]
  },
  {
   "cell_type": "code",
   "execution_count": 34,
   "id": "647732bb-407e-4917-b8a5-764f3efd8659",
   "metadata": {
    "tags": []
   },
   "outputs": [
    {
     "name": "stdout",
     "output_type": "stream",
     "text": [
      "   transaction_id            event_timestamp  distance_from_last_transaction  \\\n",
      "0               0 2024-08-09 14:50:10.695461                        0.311140   \n",
      "1               1 2024-08-09 14:50:10.695461                        0.175592   \n",
      "2               2 2024-08-09 14:50:10.695461                        0.805153   \n",
      "3               3 2024-08-09 14:50:10.695461                        5.600044   \n",
      "4               4 2024-08-09 14:50:10.695461                        0.566486   \n",
      "\n",
      "   ratio_to_median_purchase_price  used_chip  used_pin_number  \n",
      "0                        1.945940        1.0              0.0  \n",
      "1                        1.294219        0.0              0.0  \n",
      "2                        0.427715        0.0              0.0  \n",
      "3                        0.362663        1.0              0.0  \n",
      "4                        2.222767        1.0              0.0  \n"
     ]
    }
   ],
   "source": [
    "print(training_df.head())"
   ]
  }
 ],
 "metadata": {
  "kernelspec": {
   "display_name": "Python 3.9",
   "language": "python",
   "name": "python3"
  },
  "language_info": {
   "codemirror_mode": {
    "name": "ipython",
    "version": 3
   },
   "file_extension": ".py",
   "mimetype": "text/x-python",
   "name": "python",
   "nbconvert_exporter": "python",
   "pygments_lexer": "ipython3",
   "version": "3.9.16"
  }
 },
 "nbformat": 4,
 "nbformat_minor": 5
}
