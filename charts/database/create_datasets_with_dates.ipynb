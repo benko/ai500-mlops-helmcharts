{
 "cells": [
  {
   "cell_type": "code",
   "execution_count": null,
   "id": "07fb9eca-5e60-4d1c-8c7b-12b0a36d3c67",
   "metadata": {
    "tags": []
   },
   "outputs": [],
   "source": [
    "import pandas as pd\n",
    "from datetime import datetime, timedelta\n",
    "import numpy as np"
   ]
  },
  {
   "cell_type": "code",
   "execution_count": null,
   "id": "0bc36836",
   "metadata": {
    "tags": []
   },
   "outputs": [],
   "source": [
    "!curl --output card_transaction_data.csv https://raw.githubusercontent.com/rh-aiservices-bu/fraud-detection/main/data/card_transdata.csv"
   ]
  },
  {
   "cell_type": "code",
   "execution_count": null,
   "id": "bcbcbc4c",
   "metadata": {
    "tags": []
   },
   "outputs": [],
   "source": [
    "transaction_data = pd.read_csv(\"card_transaction_data.csv\")\n",
    "transaction_data.head()"
   ]
  },
  {
   "cell_type": "code",
   "execution_count": null,
   "id": "1bbf4cec-a89c-4efe-9f2d-292bbe6eaade",
   "metadata": {
    "tags": []
   },
   "outputs": [],
   "source": [
    "now = datetime.now()\n",
    "datetime_list = [now - timedelta(hours=x) for x in range(len(transaction_data))]\n",
    "timestamps = pd.DataFrame(datetime_list, columns=['event_timestamp'])\n",
    "timestamps.head()"
   ]
  },
  {
   "cell_type": "code",
   "execution_count": null,
   "id": "a9a6ab87-4f45-4235-9a8b-ebd21831f16a",
   "metadata": {
    "tags": []
   },
   "outputs": [],
   "source": [
    "num_ids = len(transaction_data)\n",
    "unique_count = int(num_ids/2)\n",
    "total_count = num_ids\n",
    "unique_ids = np.arange(0, unique_count)\n",
    "random_ids = np.random.choice(unique_ids, size=(total_count - unique_count))\n",
    "all_ids = np.concatenate([unique_ids, random_ids])\n",
    "np.random.shuffle(all_ids)\n",
    "transaction_ids = pd.DataFrame({'transaction_id': all_ids})\n",
    "transaction_ids.head()"
   ]
  },
  {
   "cell_type": "code",
   "execution_count": null,
   "id": "86ce8d98-aca5-4597-b894-afaceb99fe8e",
   "metadata": {
    "tags": []
   },
   "outputs": [],
   "source": [
    "df = pd.concat(objs=[transaction_ids, transaction_data, timestamps], axis=1)\n",
    "df.head()"
   ]
  },
  {
   "cell_type": "code",
   "execution_count": null,
   "id": "13160e11-fb3a-49ff-a11a-d47c83609a93",
   "metadata": {
    "tags": []
   },
   "outputs": [],
   "source": [
    "!rm -rf card_transaction_data.csv"
   ]
  },
  {
   "cell_type": "code",
   "execution_count": null,
   "id": "f9718439-e4ca-452b-8a9d-0df55014ced2",
   "metadata": {
    "tags": []
   },
   "outputs": [],
   "source": [
    "df.to_csv(\"card_transaction_data.csv\", index=False)\n",
    "df.to_parquet('card_transaction_data.parquet', index=False)"
   ]
  }
 ],
 "metadata": {
  "kernelspec": {
   "display_name": "Python 3.9",
   "language": "python",
   "name": "python3"
  },
  "language_info": {
   "codemirror_mode": {
    "name": "ipython",
    "version": 3
   },
   "file_extension": ".py",
   "mimetype": "text/x-python",
   "name": "python",
   "nbconvert_exporter": "python",
   "pygments_lexer": "ipython3",
   "version": "3.9.16"
  }
 },
 "nbformat": 4,
 "nbformat_minor": 5
}
